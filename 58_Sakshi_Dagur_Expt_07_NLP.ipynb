{
  "nbformat": 4,
  "nbformat_minor": 0,
  "metadata": {
    "colab": {
      "provenance": [],
      "authorship_tag": "ABX9TyMbU1NyuKxhNLgDEcvh2fW2",
      "include_colab_link": true
    },
    "kernelspec": {
      "name": "python3",
      "display_name": "Python 3"
    },
    "language_info": {
      "name": "python"
    }
  },
  "cells": [
    {
      "cell_type": "markdown",
      "metadata": {
        "id": "view-in-github",
        "colab_type": "text"
      },
      "source": [
        "<a href=\"https://colab.research.google.com/github/SakshiDagur/NLP_exp_college/blob/main/58_Sakshi_Dagur_Expt_07_NLP.ipynb\" target=\"_parent\"><img src=\"https://colab.research.google.com/assets/colab-badge.svg\" alt=\"Open In Colab\"/></a>"
      ]
    },
    {
      "cell_type": "markdown",
      "source": [
        "58_Sakshi Dagur_Expt07"
      ],
      "metadata": {
        "id": "3hvBU2OlSJOm"
      }
    },
    {
      "cell_type": "code",
      "source": [
        "\n",
        "import spacy"
      ],
      "metadata": {
        "id": "epS98h1OSQC5"
      },
      "execution_count": 1,
      "outputs": []
    },
    {
      "cell_type": "code",
      "source": [
        "\n",
        "nlp = spacy.load(\"en_core_web_sm\")"
      ],
      "metadata": {
        "id": "Gahd5Fj-SSCe"
      },
      "execution_count": 2,
      "outputs": []
    },
    {
      "cell_type": "code",
      "source": [
        "\n",
        "text = \"Apple Inc. is a company based in Cupertino, California. John works for Google in Mountain View.\""
      ],
      "metadata": {
        "id": "6AdFbQwISWbd"
      },
      "execution_count": 4,
      "outputs": []
    },
    {
      "cell_type": "code",
      "source": [
        "import spacy\n",
        "\n",
        "# Load the spaCy language model\n",
        "nlp = spacy.load(\"en_core_web_sm\")\n",
        "\n",
        "# Sample text input\n",
        "text = \"Apple Inc. is a company based in Cupertino, California. John works for Google in Mountain View.\"\n",
        "\n",
        "# Process the text using spaCy\n",
        "doc = nlp(text)\n",
        "\n",
        "# Initialize variables to store named entities\n",
        "named_entities = []\n",
        "\n",
        "# Define a function to extract named entities\n",
        "def extract_named_entities(doc):\n",
        "    entities = []\n",
        "    current_entity = None\n",
        "\n",
        "    for token in doc:\n",
        "        if token.ent_type_:\n",
        "            if current_entity and token.ent_type_ == current_entity[1]:\n",
        "                current_entity = (current_entity[0] + \" \" + token.text, token.ent_type_)\n",
        "            else:\n",
        "                if current_entity:\n",
        "                    entities.append(current_entity)\n",
        "                current_entity = (token.text, token.ent_type_)\n",
        "        else:\n",
        "            if current_entity:\n",
        "                entities.append(current_entity)\n",
        "            current_entity = None\n",
        "\n",
        "    if current_entity:\n",
        "        entities.append(current_entity)\n",
        "\n",
        "    return entities\n",
        "\n",
        "# Extract named entities\n",
        "named_entities = extract_named_entities(doc)\n",
        "\n",
        "# Print the named entities\n",
        "for entity, label in named_entities:\n",
        "    print(f\"Entity: {entity}, Label: {label}\")"
      ],
      "metadata": {
        "colab": {
          "base_uri": "https://localhost:8080/"
        },
        "id": "iNA5_gjVSbp5",
        "outputId": "fde989f3-e895-495f-be41-ea2d94b8821e"
      },
      "execution_count": 5,
      "outputs": [
        {
          "output_type": "stream",
          "name": "stdout",
          "text": [
            "Entity: Apple Inc., Label: ORG\n",
            "Entity: Cupertino, Label: GPE\n",
            "Entity: California, Label: GPE\n",
            "Entity: John, Label: PERSON\n",
            "Entity: Google, Label: ORG\n",
            "Entity: Mountain View, Label: GPE\n"
          ]
        }
      ]
    }
  ]
}