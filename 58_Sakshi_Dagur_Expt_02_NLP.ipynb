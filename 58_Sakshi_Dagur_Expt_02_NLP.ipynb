{
  "cells": [
    {
      "cell_type": "markdown",
      "metadata": {
        "id": "view-in-github",
        "colab_type": "text"
      },
      "source": [
        "<a href=\"https://colab.research.google.com/github/SakshiDagur/NLP_exp_college/blob/main/58_Sakshi_Dagur_Expt_02_NLP.ipynb\" target=\"_parent\"><img src=\"https://colab.research.google.com/assets/colab-badge.svg\" alt=\"Open In Colab\"/></a>"
      ]
    },
    {
      "cell_type": "markdown",
      "metadata": {
        "id": "excessive-adrian"
      },
      "source": [
        "Experiment 02"
      ],
      "id": "excessive-adrian"
    },
    {
      "cell_type": "markdown",
      "metadata": {
        "id": "regular-fellow"
      },
      "source": [
        "### Library required for Preprocessing"
      ],
      "id": "regular-fellow"
    },
    {
      "cell_type": "code",
      "execution_count": null,
      "metadata": {
        "id": "million-methodology",
        "colab": {
          "base_uri": "https://localhost:8080/"
        },
        "outputId": "99e489ad-7235-40b7-deb5-fca2af95b6f0"
      },
      "outputs": [
        {
          "output_type": "stream",
          "name": "stdout",
          "text": [
            "Requirement already satisfied: nltk in /usr/local/lib/python3.10/dist-packages (3.8.1)\n",
            "Requirement already satisfied: click in /usr/local/lib/python3.10/dist-packages (from nltk) (8.1.7)\n",
            "Requirement already satisfied: joblib in /usr/local/lib/python3.10/dist-packages (from nltk) (1.3.2)\n",
            "Requirement already satisfied: regex>=2021.8.3 in /usr/local/lib/python3.10/dist-packages (from nltk) (2023.6.3)\n",
            "Requirement already satisfied: tqdm in /usr/local/lib/python3.10/dist-packages (from nltk) (4.66.1)\n"
          ]
        }
      ],
      "source": [
        "!pip install nltk"
      ],
      "id": "million-methodology"
    },
    {
      "cell_type": "code",
      "execution_count": null,
      "metadata": {
        "id": "alien-breathing"
      },
      "outputs": [],
      "source": [
        "import nltk"
      ],
      "id": "alien-breathing"
    },
    {
      "cell_type": "code",
      "execution_count": null,
      "metadata": {
        "colab": {
          "base_uri": "https://localhost:8080/"
        },
        "id": "juvenile-powder",
        "outputId": "621a7962-4d73-4517-8976-2ffdb4bea00e"
      },
      "outputs": [
        {
          "output_type": "stream",
          "name": "stderr",
          "text": [
            "[nltk_data] Downloading package punkt to /root/nltk_data...\n",
            "[nltk_data]   Unzipping tokenizers/punkt.zip.\n"
          ]
        },
        {
          "output_type": "execute_result",
          "data": {
            "text/plain": [
              "True"
            ]
          },
          "metadata": {},
          "execution_count": 11
        }
      ],
      "source": [
        "nltk.download('punkt')"
      ],
      "id": "juvenile-powder"
    },
    {
      "cell_type": "markdown",
      "metadata": {
        "id": "funded-pontiac"
      },
      "source": [
        "### Sentence Tokenization"
      ],
      "id": "funded-pontiac"
    },
    {
      "cell_type": "code",
      "execution_count": null,
      "metadata": {
        "id": "offshore-contrast"
      },
      "outputs": [],
      "source": [
        "from nltk.tokenize import sent_tokenize"
      ],
      "id": "offshore-contrast"
    },
    {
      "cell_type": "code",
      "execution_count": null,
      "metadata": {
        "id": "tested-portable"
      },
      "outputs": [],
      "source": [
        "\n",
        "text = '''Stephenson 2-18 is now known as being one of the largest, if not the current largest star ever discovered, surpassing other stars like VY Canis Majoris and UY Scuti.\n",
        "        Stephenson 2-18 has a radius of 2,150 solar radii, being larger than almost the entire orbit of Saturn (1,940 - 2,169 solar radii).'''"
      ],
      "id": "tested-portable"
    },
    {
      "cell_type": "code",
      "execution_count": null,
      "metadata": {
        "id": "handmade-wedding",
        "colab": {
          "base_uri": "https://localhost:8080/",
          "height": 87
        },
        "outputId": "3fb78d24-dc46-4a1f-f7b2-4acc1e0c56ca"
      },
      "outputs": [
        {
          "output_type": "execute_result",
          "data": {
            "text/plain": [
              "'Stephenson 2-18 is now known as being one of the largest, if not the current largest star ever discovered, surpassing other stars like VY Canis Majoris and UY Scuti.\\n        Stephenson 2-18 has a radius of 2,150 solar radii, being larger than almost the entire orbit of Saturn (1,940 - 2,169 solar radii).'"
            ],
            "application/vnd.google.colaboratory.intrinsic+json": {
              "type": "string"
            }
          },
          "metadata": {},
          "execution_count": 13
        }
      ],
      "source": [
        "text"
      ],
      "id": "handmade-wedding"
    },
    {
      "cell_type": "code",
      "execution_count": null,
      "metadata": {
        "id": "curious-legislature"
      },
      "outputs": [],
      "source": [
        "sentences = sent_tokenize (text)"
      ],
      "id": "curious-legislature"
    },
    {
      "cell_type": "code",
      "execution_count": null,
      "metadata": {
        "id": "bored-narrative",
        "colab": {
          "base_uri": "https://localhost:8080/"
        },
        "outputId": "d4c2f156-a810-434e-aba9-0fcbcdc4d00a"
      },
      "outputs": [
        {
          "output_type": "execute_result",
          "data": {
            "text/plain": [
              "['Stephenson 2-18 is now known as being one of the largest, if not the current largest star ever discovered, surpassing other stars like VY Canis Majoris and UY Scuti.',\n",
              " 'Stephenson 2-18 has a radius of 2,150 solar radii, being larger than almost the entire orbit of Saturn (1,940 - 2,169 solar radii).']"
            ]
          },
          "metadata": {},
          "execution_count": 28
        }
      ],
      "source": [
        "sentences"
      ],
      "id": "bored-narrative"
    },
    {
      "cell_type": "markdown",
      "metadata": {
        "id": "suitable-franchise"
      },
      "source": [
        "### Word Tokenization"
      ],
      "id": "suitable-franchise"
    },
    {
      "cell_type": "code",
      "execution_count": null,
      "metadata": {
        "id": "alien-basin"
      },
      "outputs": [],
      "source": [
        "from nltk.tokenize import word_tokenize"
      ],
      "id": "alien-basin"
    },
    {
      "cell_type": "code",
      "execution_count": null,
      "metadata": {
        "id": "innovative-hayes"
      },
      "outputs": [],
      "source": [
        "words = word_tokenize (text)"
      ],
      "id": "innovative-hayes"
    },
    {
      "cell_type": "code",
      "execution_count": null,
      "metadata": {
        "id": "sporting-medicare",
        "colab": {
          "base_uri": "https://localhost:8080/"
        },
        "outputId": "5a0c3550-0ddf-42ec-bfc0-cd0005e1e7ac"
      },
      "outputs": [
        {
          "output_type": "execute_result",
          "data": {
            "text/plain": [
              "['Stephenson',\n",
              " '2-18',\n",
              " 'is',\n",
              " 'now',\n",
              " 'known',\n",
              " 'as',\n",
              " 'being',\n",
              " 'one',\n",
              " 'of',\n",
              " 'the',\n",
              " 'largest',\n",
              " ',',\n",
              " 'if',\n",
              " 'not',\n",
              " 'the',\n",
              " 'current',\n",
              " 'largest',\n",
              " 'star',\n",
              " 'ever',\n",
              " 'discovered',\n",
              " ',',\n",
              " 'surpassing',\n",
              " 'other',\n",
              " 'stars',\n",
              " 'like',\n",
              " 'VY',\n",
              " 'Canis',\n",
              " 'Majoris',\n",
              " 'and',\n",
              " 'UY',\n",
              " 'Scuti',\n",
              " '.',\n",
              " 'Stephenson',\n",
              " '2-18',\n",
              " 'has',\n",
              " 'a',\n",
              " 'radius',\n",
              " 'of',\n",
              " '2,150',\n",
              " 'solar',\n",
              " 'radii',\n",
              " ',',\n",
              " 'being',\n",
              " 'larger',\n",
              " 'than',\n",
              " 'almost',\n",
              " 'the',\n",
              " 'entire',\n",
              " 'orbit',\n",
              " 'of',\n",
              " 'Saturn',\n",
              " '(',\n",
              " '1,940',\n",
              " '-',\n",
              " '2,169',\n",
              " 'solar',\n",
              " 'radii',\n",
              " ')',\n",
              " '.']"
            ]
          },
          "metadata": {},
          "execution_count": 17
        }
      ],
      "source": [
        "words"
      ],
      "id": "sporting-medicare"
    },
    {
      "cell_type": "code",
      "execution_count": null,
      "metadata": {
        "id": "hybrid-motivation",
        "colab": {
          "base_uri": "https://localhost:8080/"
        },
        "outputId": "830055d4-0e54-4834-901f-f2fe5c88b168"
      },
      "outputs": [
        {
          "output_type": "stream",
          "name": "stdout",
          "text": [
            "Stephenson\n",
            "2-18\n",
            "is\n",
            "now\n",
            "known\n",
            "as\n",
            "being\n",
            "one\n",
            "of\n",
            "the\n",
            "largest\n",
            ",\n",
            "if\n",
            "not\n",
            "the\n",
            "current\n",
            "largest\n",
            "star\n",
            "ever\n",
            "discovered\n",
            ",\n",
            "surpassing\n",
            "other\n",
            "stars\n",
            "like\n",
            "VY\n",
            "Canis\n",
            "Majoris\n",
            "and\n",
            "UY\n",
            "Scuti\n",
            ".\n",
            "Stephenson\n",
            "2-18\n",
            "has\n",
            "a\n",
            "radius\n",
            "of\n",
            "2,150\n",
            "solar\n",
            "radii\n",
            ",\n",
            "being\n",
            "larger\n",
            "than\n",
            "almost\n",
            "the\n",
            "entire\n",
            "orbit\n",
            "of\n",
            "Saturn\n",
            "(\n",
            "1,940\n",
            "-\n",
            "2,169\n",
            "solar\n",
            "radii\n",
            ")\n",
            ".\n"
          ]
        }
      ],
      "source": [
        "for w in words:\n",
        "    print (w)"
      ],
      "id": "hybrid-motivation"
    },
    {
      "cell_type": "markdown",
      "metadata": {
        "id": "related-submission"
      },
      "source": [
        "### Levels of Sentences Tokenization using Comprehension"
      ],
      "id": "related-submission"
    },
    {
      "cell_type": "code",
      "execution_count": null,
      "metadata": {
        "id": "german-vintage",
        "colab": {
          "base_uri": "https://localhost:8080/"
        },
        "outputId": "e41e56dd-65bf-4357-f06d-4d0a8e42a700"
      },
      "outputs": [
        {
          "output_type": "execute_result",
          "data": {
            "text/plain": [
              "['Stephenson 2-18 is now known as being one of the largest, if not the current largest star ever discovered, surpassing other stars like VY Canis Majoris and UY Scuti.',\n",
              " 'Stephenson 2-18 has a radius of 2,150 solar radii, being larger than almost the entire orbit of Saturn (1,940 - 2,169 solar radii).']"
            ]
          },
          "metadata": {},
          "execution_count": 19
        }
      ],
      "source": [
        "sent_tokenize (text)"
      ],
      "id": "german-vintage"
    },
    {
      "cell_type": "code",
      "execution_count": null,
      "metadata": {
        "id": "cardiovascular-hazard",
        "colab": {
          "base_uri": "https://localhost:8080/"
        },
        "outputId": "5b3497eb-1de4-42fc-d53e-62d17ea17b50"
      },
      "outputs": [
        {
          "output_type": "execute_result",
          "data": {
            "text/plain": [
              "[['Stephenson',\n",
              "  '2-18',\n",
              "  'is',\n",
              "  'now',\n",
              "  'known',\n",
              "  'as',\n",
              "  'being',\n",
              "  'one',\n",
              "  'of',\n",
              "  'the',\n",
              "  'largest',\n",
              "  ',',\n",
              "  'if',\n",
              "  'not',\n",
              "  'the',\n",
              "  'current',\n",
              "  'largest',\n",
              "  'star',\n",
              "  'ever',\n",
              "  'discovered',\n",
              "  ',',\n",
              "  'surpassing',\n",
              "  'other',\n",
              "  'stars',\n",
              "  'like',\n",
              "  'VY',\n",
              "  'Canis',\n",
              "  'Majoris',\n",
              "  'and',\n",
              "  'UY',\n",
              "  'Scuti',\n",
              "  '.',\n",
              "  'Stephenson',\n",
              "  '2-18',\n",
              "  'has',\n",
              "  'a',\n",
              "  'radius',\n",
              "  'of',\n",
              "  '2,150',\n",
              "  'solar',\n",
              "  'radii',\n",
              "  ',',\n",
              "  'being',\n",
              "  'larger',\n",
              "  'than',\n",
              "  'almost',\n",
              "  'the',\n",
              "  'entire',\n",
              "  'orbit',\n",
              "  'of',\n",
              "  'Saturn',\n",
              "  '(',\n",
              "  '1,940',\n",
              "  '-',\n",
              "  '2,169',\n",
              "  'solar',\n",
              "  'radii',\n",
              "  ')',\n",
              "  '.'],\n",
              " ['Stephenson',\n",
              "  '2-18',\n",
              "  'is',\n",
              "  'now',\n",
              "  'known',\n",
              "  'as',\n",
              "  'being',\n",
              "  'one',\n",
              "  'of',\n",
              "  'the',\n",
              "  'largest',\n",
              "  ',',\n",
              "  'if',\n",
              "  'not',\n",
              "  'the',\n",
              "  'current',\n",
              "  'largest',\n",
              "  'star',\n",
              "  'ever',\n",
              "  'discovered',\n",
              "  ',',\n",
              "  'surpassing',\n",
              "  'other',\n",
              "  'stars',\n",
              "  'like',\n",
              "  'VY',\n",
              "  'Canis',\n",
              "  'Majoris',\n",
              "  'and',\n",
              "  'UY',\n",
              "  'Scuti',\n",
              "  '.',\n",
              "  'Stephenson',\n",
              "  '2-18',\n",
              "  'has',\n",
              "  'a',\n",
              "  'radius',\n",
              "  'of',\n",
              "  '2,150',\n",
              "  'solar',\n",
              "  'radii',\n",
              "  ',',\n",
              "  'being',\n",
              "  'larger',\n",
              "  'than',\n",
              "  'almost',\n",
              "  'the',\n",
              "  'entire',\n",
              "  'orbit',\n",
              "  'of',\n",
              "  'Saturn',\n",
              "  '(',\n",
              "  '1,940',\n",
              "  '-',\n",
              "  '2,169',\n",
              "  'solar',\n",
              "  'radii',\n",
              "  ')',\n",
              "  '.']]"
            ]
          },
          "metadata": {},
          "execution_count": 20
        }
      ],
      "source": [
        "[word_tokenize (text) for t in sent_tokenize(text)]"
      ],
      "id": "cardiovascular-hazard"
    },
    {
      "cell_type": "code",
      "execution_count": null,
      "metadata": {
        "id": "saving-trade"
      },
      "outputs": [],
      "source": [
        "from nltk.tokenize import wordpunct_tokenize"
      ],
      "id": "saving-trade"
    },
    {
      "cell_type": "code",
      "execution_count": null,
      "metadata": {
        "id": "decimal-presence",
        "colab": {
          "base_uri": "https://localhost:8080/"
        },
        "outputId": "4c4b6282-d784-4cb0-a69c-b69ac9df2e5d"
      },
      "outputs": [
        {
          "output_type": "execute_result",
          "data": {
            "text/plain": [
              "['Stephenson',\n",
              " '2',\n",
              " '-',\n",
              " '18',\n",
              " 'is',\n",
              " 'now',\n",
              " 'known',\n",
              " 'as',\n",
              " 'being',\n",
              " 'one',\n",
              " 'of',\n",
              " 'the',\n",
              " 'largest',\n",
              " ',',\n",
              " 'if',\n",
              " 'not',\n",
              " 'the',\n",
              " 'current',\n",
              " 'largest',\n",
              " 'star',\n",
              " 'ever',\n",
              " 'discovered',\n",
              " ',',\n",
              " 'surpassing',\n",
              " 'other',\n",
              " 'stars',\n",
              " 'like',\n",
              " 'VY',\n",
              " 'Canis',\n",
              " 'Majoris',\n",
              " 'and',\n",
              " 'UY',\n",
              " 'Scuti',\n",
              " '.',\n",
              " 'Stephenson',\n",
              " '2',\n",
              " '-',\n",
              " '18',\n",
              " 'has',\n",
              " 'a',\n",
              " 'radius',\n",
              " 'of',\n",
              " '2',\n",
              " ',',\n",
              " '150',\n",
              " 'solar',\n",
              " 'radii',\n",
              " ',',\n",
              " 'being',\n",
              " 'larger',\n",
              " 'than',\n",
              " 'almost',\n",
              " 'the',\n",
              " 'entire',\n",
              " 'orbit',\n",
              " 'of',\n",
              " 'Saturn',\n",
              " '(',\n",
              " '1',\n",
              " ',',\n",
              " '940',\n",
              " '-',\n",
              " '2',\n",
              " ',',\n",
              " '169',\n",
              " 'solar',\n",
              " 'radii',\n",
              " ').']"
            ]
          },
          "metadata": {},
          "execution_count": 22
        }
      ],
      "source": [
        "wordpunct_tokenize (text)"
      ],
      "id": "decimal-presence"
    },
    {
      "cell_type": "markdown",
      "metadata": {
        "id": "equal-kitty"
      },
      "source": [
        "### Filteration of Text by converting into lower case"
      ],
      "id": "equal-kitty"
    },
    {
      "cell_type": "code",
      "execution_count": null,
      "metadata": {
        "id": "alpha-cannon",
        "colab": {
          "base_uri": "https://localhost:8080/",
          "height": 87
        },
        "outputId": "bdbd2210-403b-42d7-d335-5cc2bcd0bd11"
      },
      "outputs": [
        {
          "output_type": "execute_result",
          "data": {
            "text/plain": [
              "'stephenson 2-18 is now known as being one of the largest, if not the current largest star ever discovered, surpassing other stars like vy canis majoris and uy scuti.\\n        stephenson 2-18 has a radius of 2,150 solar radii, being larger than almost the entire orbit of saturn (1,940 - 2,169 solar radii).'"
            ],
            "application/vnd.google.colaboratory.intrinsic+json": {
              "type": "string"
            }
          },
          "metadata": {},
          "execution_count": 23
        }
      ],
      "source": [
        "text.lower()"
      ],
      "id": "alpha-cannon"
    },
    {
      "cell_type": "code",
      "execution_count": null,
      "metadata": {
        "id": "bulgarian-performer",
        "colab": {
          "base_uri": "https://localhost:8080/",
          "height": 87
        },
        "outputId": "64cdafd7-e4c5-4e2c-8f8d-b3ae3ded3712"
      },
      "outputs": [
        {
          "output_type": "execute_result",
          "data": {
            "text/plain": [
              "'STEPHENSON 2-18 IS NOW KNOWN AS BEING ONE OF THE LARGEST, IF NOT THE CURRENT LARGEST STAR EVER DISCOVERED, SURPASSING OTHER STARS LIKE VY CANIS MAJORIS AND UY SCUTI.\\n        STEPHENSON 2-18 HAS A RADIUS OF 2,150 SOLAR RADII, BEING LARGER THAN ALMOST THE ENTIRE ORBIT OF SATURN (1,940 - 2,169 SOLAR RADII).'"
            ],
            "application/vnd.google.colaboratory.intrinsic+json": {
              "type": "string"
            }
          },
          "metadata": {},
          "execution_count": 24
        }
      ],
      "source": [
        "text.upper()"
      ],
      "id": "bulgarian-performer"
    }
  ],
  "metadata": {
    "colab": {
      "provenance": [],
      "include_colab_link": true
    },
    "kernelspec": {
      "display_name": "Python 3",
      "language": "python",
      "name": "python3"
    },
    "language_info": {
      "codemirror_mode": {
        "name": "ipython",
        "version": 3
      },
      "file_extension": ".py",
      "mimetype": "text/x-python",
      "name": "python",
      "nbconvert_exporter": "python",
      "pygments_lexer": "ipython3",
      "version": "3.7.0"
    }
  },
  "nbformat": 4,
  "nbformat_minor": 5
}