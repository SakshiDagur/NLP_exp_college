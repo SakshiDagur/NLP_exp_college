{
  "nbformat": 4,
  "nbformat_minor": 0,
  "metadata": {
    "colab": {
      "provenance": [],
      "authorship_tag": "ABX9TyM/K4achsdBAPnqP9OW9Iwz",
      "include_colab_link": true
    },
    "kernelspec": {
      "name": "python3",
      "display_name": "Python 3"
    },
    "language_info": {
      "name": "python"
    }
  },
  "cells": [
    {
      "cell_type": "markdown",
      "metadata": {
        "id": "view-in-github",
        "colab_type": "text"
      },
      "source": [
        "<a href=\"https://colab.research.google.com/github/SakshiDagur/NLP_exp_college/blob/main/58_Sakshi_Dagur_Expt_06_NLP.ipynb\" target=\"_parent\"><img src=\"https://colab.research.google.com/assets/colab-badge.svg\" alt=\"Open In Colab\"/></a>"
      ]
    },
    {
      "cell_type": "code",
      "execution_count": 3,
      "metadata": {
        "colab": {
          "base_uri": "https://localhost:8080/"
        },
        "id": "RPGJIsC7QSrr",
        "outputId": "63e7f713-24b5-4ced-d777-887c8ee4a866"
      },
      "outputs": [
        {
          "output_type": "stream",
          "name": "stderr",
          "text": [
            "[nltk_data] Downloading package punkt to /root/nltk_data...\n",
            "[nltk_data]   Package punkt is already up-to-date!\n",
            "[nltk_data] Downloading package averaged_perceptron_tagger to\n",
            "[nltk_data]     /root/nltk_data...\n",
            "[nltk_data]   Package averaged_perceptron_tagger is already up-to-\n",
            "[nltk_data]       date!\n"
          ]
        },
        {
          "output_type": "execute_result",
          "data": {
            "text/plain": [
              "True"
            ]
          },
          "metadata": {},
          "execution_count": 3
        }
      ],
      "source": [
        "import nltk\n",
        "nltk.download('punkt')\n",
        "nltk.download('averaged_perceptron_tagger')"
      ]
    },
    {
      "cell_type": "code",
      "source": [
        "from nltk.chunk import RegexpParser\n",
        "from nltk.tokenize import word_tokenize"
      ],
      "metadata": {
        "id": "v1ZY_GqGQeP3"
      },
      "execution_count": 4,
      "outputs": []
    },
    {
      "cell_type": "code",
      "source": [
        "sentence = \"Educative Answers is a free web encyclopedia written by devs for devs.\""
      ],
      "metadata": {
        "id": "T022PfmZQk2z"
      },
      "execution_count": 5,
      "outputs": []
    },
    {
      "cell_type": "markdown",
      "source": [
        "Tokenization"
      ],
      "metadata": {
        "id": "hIuIJ4XvQn5l"
      }
    },
    {
      "cell_type": "code",
      "source": [
        "tokens = word_tokenize(sentence)"
      ],
      "metadata": {
        "id": "uhZK_knPQozb"
      },
      "execution_count": 6,
      "outputs": []
    },
    {
      "cell_type": "code",
      "source": [
        "tokens"
      ],
      "metadata": {
        "colab": {
          "base_uri": "https://localhost:8080/"
        },
        "id": "wibIUaBMQrXY",
        "outputId": "b1a04674-08ab-4c18-9b37-78a4d7c212e7"
      },
      "execution_count": 7,
      "outputs": [
        {
          "output_type": "execute_result",
          "data": {
            "text/plain": [
              "['Educative',\n",
              " 'Answers',\n",
              " 'is',\n",
              " 'a',\n",
              " 'free',\n",
              " 'web',\n",
              " 'encyclopedia',\n",
              " 'written',\n",
              " 'by',\n",
              " 'devs',\n",
              " 'for',\n",
              " 'devs',\n",
              " '.']"
            ]
          },
          "metadata": {},
          "execution_count": 7
        }
      ]
    },
    {
      "cell_type": "markdown",
      "source": [
        "POS tagging"
      ],
      "metadata": {
        "id": "uL-8hTGAQtSf"
      }
    },
    {
      "cell_type": "code",
      "source": [
        "pos_tags = nltk.pos_tag(tokens)"
      ],
      "metadata": {
        "id": "2y_jcXZuQuqw"
      },
      "execution_count": 8,
      "outputs": []
    },
    {
      "cell_type": "code",
      "source": [
        "pos_tags"
      ],
      "metadata": {
        "colab": {
          "base_uri": "https://localhost:8080/"
        },
        "id": "DqhjCqkWQw_6",
        "outputId": "48986251-1b84-4d69-d70e-f871188e52c2"
      },
      "execution_count": 9,
      "outputs": [
        {
          "output_type": "execute_result",
          "data": {
            "text/plain": [
              "[('Educative', 'JJ'),\n",
              " ('Answers', 'NNPS'),\n",
              " ('is', 'VBZ'),\n",
              " ('a', 'DT'),\n",
              " ('free', 'JJ'),\n",
              " ('web', 'NN'),\n",
              " ('encyclopedia', 'NN'),\n",
              " ('written', 'VBN'),\n",
              " ('by', 'IN'),\n",
              " ('devs', 'NN'),\n",
              " ('for', 'IN'),\n",
              " ('devs', 'NN'),\n",
              " ('.', '.')]"
            ]
          },
          "metadata": {},
          "execution_count": 9
        }
      ]
    },
    {
      "cell_type": "markdown",
      "source": [
        "Chunking patterns"
      ],
      "metadata": {
        "id": "uq0aRikuQz7-"
      }
    },
    {
      "cell_type": "code",
      "source": [
        "chunk_patterns = r\"\"\"\n",
        "    NP: {<DT>?<JJ>*<NN>}  # Chunk noun phrases\n",
        "    VP: {<VB.*><NP|PP>}  # Chunk verb phrases\n",
        "\"\"\""
      ],
      "metadata": {
        "id": "ZpTyVVVAQ0s9"
      },
      "execution_count": 10,
      "outputs": []
    },
    {
      "cell_type": "code",
      "source": [
        "chunk_patterns\n"
      ],
      "metadata": {
        "colab": {
          "base_uri": "https://localhost:8080/",
          "height": 35
        },
        "id": "PXmCnT8TQ2qP",
        "outputId": "336eb1a1-af4a-4c7e-d404-a352dfcb32c1"
      },
      "execution_count": 11,
      "outputs": [
        {
          "output_type": "execute_result",
          "data": {
            "text/plain": [
              "'\\n    NP: {<DT>?<JJ>*<NN>}  # Chunk noun phrases\\n    VP: {<VB.*><NP|PP>}  # Chunk verb phrases\\n'"
            ],
            "application/vnd.google.colaboratory.intrinsic+json": {
              "type": "string"
            }
          },
          "metadata": {},
          "execution_count": 11
        }
      ]
    },
    {
      "cell_type": "markdown",
      "source": [
        "Create a chunk parser\n"
      ],
      "metadata": {
        "id": "B1ZNRG-uQ53O"
      }
    },
    {
      "cell_type": "code",
      "source": [
        "chunk_parser = RegexpParser(chunk_patterns)"
      ],
      "metadata": {
        "id": "LcxKmEf7Q6kJ"
      },
      "execution_count": 12,
      "outputs": []
    },
    {
      "cell_type": "code",
      "source": [
        "chunk_parser"
      ],
      "metadata": {
        "colab": {
          "base_uri": "https://localhost:8080/"
        },
        "id": "0TrmTPg9Q7_P",
        "outputId": "9681c5d5-849d-49b8-e0bf-650d94164a89"
      },
      "execution_count": 13,
      "outputs": [
        {
          "output_type": "execute_result",
          "data": {
            "text/plain": [
              "<chunk.RegexpParser with 2 stages>"
            ]
          },
          "metadata": {},
          "execution_count": 13
        }
      ]
    },
    {
      "cell_type": "markdown",
      "source": [
        "Perform chunking"
      ],
      "metadata": {
        "id": "PplEWbisQ_Aa"
      }
    },
    {
      "cell_type": "code",
      "source": [
        "result = chunk_parser.parse(pos_tags)\n"
      ],
      "metadata": {
        "id": "bCIydEiFRAzG"
      },
      "execution_count": 14,
      "outputs": []
    },
    {
      "cell_type": "code",
      "source": [
        "\n",
        "print(result)"
      ],
      "metadata": {
        "colab": {
          "base_uri": "https://localhost:8080/"
        },
        "id": "3RUZ4gDMRDke",
        "outputId": "0c8112b7-3a31-40ed-c2ec-45988aa4ef68"
      },
      "execution_count": 15,
      "outputs": [
        {
          "output_type": "stream",
          "name": "stdout",
          "text": [
            "(S\n",
            "  Educative/JJ\n",
            "  Answers/NNPS\n",
            "  (VP is/VBZ (NP a/DT free/JJ web/NN))\n",
            "  (NP encyclopedia/NN)\n",
            "  written/VBN\n",
            "  by/IN\n",
            "  (NP devs/NN)\n",
            "  for/IN\n",
            "  (NP devs/NN)\n",
            "  ./.)\n"
          ]
        }
      ]
    }
  ]
}